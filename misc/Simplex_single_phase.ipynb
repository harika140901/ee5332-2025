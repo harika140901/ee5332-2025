{
  "nbformat": 4,
  "nbformat_minor": 0,
  "metadata": {
    "colab": {
      "provenance": [],
      "include_colab_link": true
    },
    "kernelspec": {
      "name": "python3",
      "display_name": "Python 3"
    },
    "language_info": {
      "name": "python"
    }
  },
  "cells": [
    {
      "cell_type": "markdown",
      "metadata": {
        "id": "view-in-github",
        "colab_type": "text"
      },
      "source": [
        "<a href=\"https://colab.research.google.com/github/harika140901/ee5332-2025/blob/main/misc/Simplex_single_phase.ipynb\" target=\"_parent\"><img src=\"https://colab.research.google.com/assets/colab-badge.svg\" alt=\"Open In Colab\"/></a>"
      ]
    },
    {
      "cell_type": "code",
      "source": [
        "!pip install mip"
      ],
      "metadata": {
        "id": "NIwKQ45mfb6Y",
        "outputId": "089bc41b-b8d7-4e5d-e59f-f4cf36935643",
        "colab": {
          "base_uri": "https://localhost:8080/"
        }
      },
      "execution_count": 3,
      "outputs": [
        {
          "output_type": "stream",
          "name": "stdout",
          "text": [
            "Collecting mip\n",
            "  Downloading mip-1.15.0-py3-none-any.whl.metadata (21 kB)\n",
            "Collecting cffi==1.15.* (from mip)\n",
            "  Downloading cffi-1.15.1-cp311-cp311-manylinux_2_17_x86_64.manylinux2014_x86_64.whl.metadata (1.1 kB)\n",
            "Requirement already satisfied: pycparser in /usr/local/lib/python3.11/dist-packages (from cffi==1.15.*->mip) (2.22)\n",
            "Downloading mip-1.15.0-py3-none-any.whl (15.3 MB)\n",
            "\u001b[2K   \u001b[90m━━━━━━━━━━━━━━━━━━━━━━━━━━━━━━━━━━━━━━━━\u001b[0m \u001b[32m15.3/15.3 MB\u001b[0m \u001b[31m53.3 MB/s\u001b[0m eta \u001b[36m0:00:00\u001b[0m\n",
            "\u001b[?25hDownloading cffi-1.15.1-cp311-cp311-manylinux_2_17_x86_64.manylinux2014_x86_64.whl (462 kB)\n",
            "\u001b[2K   \u001b[90m━━━━━━━━━━━━━━━━━━━━━━━━━━━━━━━━━━━━━━━━\u001b[0m \u001b[32m462.6/462.6 kB\u001b[0m \u001b[31m28.1 MB/s\u001b[0m eta \u001b[36m0:00:00\u001b[0m\n",
            "\u001b[?25hInstalling collected packages: cffi, mip\n",
            "  Attempting uninstall: cffi\n",
            "    Found existing installation: cffi 1.17.1\n",
            "    Uninstalling cffi-1.17.1:\n",
            "      Successfully uninstalled cffi-1.17.1\n",
            "\u001b[31mERROR: pip's dependency resolver does not currently take into account all the packages that are installed. This behaviour is the source of the following dependency conflicts.\n",
            "pygit2 1.17.0 requires cffi>=1.17.0, but you have cffi 1.15.1 which is incompatible.\u001b[0m\u001b[31m\n",
            "\u001b[0mSuccessfully installed cffi-1.15.1 mip-1.15.0\n"
          ]
        }
      ]
    },
    {
      "cell_type": "code",
      "source": [
        "import numpy as np\n",
        "\n",
        "def print_tableau(A, b, c, f):\n",
        "    for i in range(len(A)):\n",
        "        print(\"{0:30} | {1}\".format(str(A[i]), b[i]))\n",
        "    print('_______________________________________')\n",
        "    print(\"{0:30} | {1}\\n\".format(str(c), f))\n",
        "\n",
        "def simplex(m, obj, verbose=False):\n",
        "    varMap = {v.name: i for i, v in enumerate(m.vars)}\n",
        "    numVars = len(m.constrs) + len(m.vars)\n",
        "    A = np.zeros(shape=(len(m.constrs), numVars))\n",
        "    c = np.zeros(numVars)\n",
        "\n",
        "    # Objective function\n",
        "    for i, v in obj.expr.items():\n",
        "        c[varMap[i.name]] = v\n",
        "\n",
        "    b = np.zeros(len(m.constrs))\n",
        "\n",
        "    # Constraints processing\n",
        "    for i, e in enumerate(m.constrs):\n",
        "        sens = e.expr.sense\n",
        "        b[i] = e.rhs if sens == '<' else -e.rhs\n",
        "        for ind, val in e.expr.expr.items():\n",
        "            A[i][varMap[ind.name]] = val if sens == '<' else -val\n",
        "        if sens == '<' or sens == '>':\n",
        "            A[i][len(m.vars) + i] = 1\n",
        "\n",
        "    f = 0\n",
        "    sol = np.zeros(numVars)\n",
        "\n",
        "    print(\"Initial tableau:\")\n",
        "    print_tableau(A, b, c, f)\n",
        "\n",
        "    # Simplex Iterations\n",
        "    while np.any(c > 0):  # While there are positive coefficients in the objective row\n",
        "        pivot_col = np.argmax(c)  # Entering variable (most positive coefficient)\n",
        "\n",
        "        # Select pivot row\n",
        "        ratios = []\n",
        "        for i in range(len(b)):\n",
        "            if A[i][pivot_col] > 0:\n",
        "                ratios.append(b[i] / A[i][pivot_col])\n",
        "            else:\n",
        "                ratios.append(float('inf'))  # Avoid division by zero\n",
        "\n",
        "        pivot_row = np.argmin(ratios)  # Leaving variable\n",
        "\n",
        "        if ratios[pivot_row] == float('inf'):\n",
        "            raise ValueError(\"Unbounded solution\")  # No valid pivot row\n",
        "\n",
        "        # Pivoting\n",
        "        pivot_val = A[pivot_row][pivot_col]\n",
        "        A[pivot_row] /= pivot_val  # Normalize pivot row\n",
        "        b[pivot_row] /= pivot_val\n",
        "\n",
        "        for i in range(len(A)):\n",
        "            if i != pivot_row:\n",
        "                factor = A[i][pivot_col]\n",
        "                A[i] -= factor * A[pivot_row]\n",
        "                b[i] -= factor * b[pivot_row]\n",
        "\n",
        "        factor = c[pivot_col]\n",
        "        c -= factor * A[pivot_row]\n",
        "        f -= factor * b[pivot_row]\n",
        "\n",
        "        if verbose:\n",
        "            print(\"\\nTableau after pivoting:\")\n",
        "            print_tableau(A, b, c, f)\n",
        "\n",
        "    # Extract solution\n",
        "    for i in range(len(m.vars)):\n",
        "        for j in range(len(A)):\n",
        "            if A[j][i] == 1 and sum(A[:, i]) == 1:\n",
        "                sol[i] = b[j]\n",
        "                break\n",
        "\n",
        "    print(\"\\nFinal tableau:\")\n",
        "    print_tableau(A, b, c, f)\n",
        "\n",
        "    print(\"Optimal solution:\", sol)\n",
        "    print(\"Optimal value:\", f, \"\\n\")\n",
        "\n",
        "    return sol, f"
      ],
      "metadata": {
        "id": "oZaxe-ZtuMv_"
      },
      "execution_count": 1,
      "outputs": []
    },
    {
      "cell_type": "code",
      "execution_count": null,
      "metadata": {
        "id": "pFZQAgE0fWr6"
      },
      "outputs": [],
      "source": [
        "import numpy as np\n",
        "def print_tableau(A, b, c, f):\n",
        "  for i in range(len(A)):\n",
        "    print(\"{0:30} | {1}\".format(str(A[i]), b[i]))\n",
        "  print('_______________________________________')\n",
        "  print(\"{0:30} | {1}\\n\".format(str(c), f))\n",
        "\n",
        "def simplex(m, obj, verbose = False):\n",
        "    varMap = {v.name:i for i,v in enumerate(m.vars)}\n",
        "    numVars = len(m.constrs) + len(m.vars)\n",
        "    A = np.zeros(shape=(len(m.constrs), numVars))\n",
        "    c = np.zeros(numVars)\n",
        "    for i, v in obj.expr.items():\n",
        "        c[varMap[i.name]] = v\n",
        "    b = np.zeros(len(m.constrs))\n",
        "    for i, e in enumerate(m.constrs):\n",
        "        sens = e.expr.sense\n",
        "        b[i] = e.rhs if sens == '<' else -e.rhs\n",
        "        for ind,val in e.expr.expr.items():\n",
        "            A[i][varMap[ind.name]] = val if sens == '<' else -val\n",
        "        if sens == '<' or sens == '>': A[i][len(m.vars) + i] = 1\n",
        "    f = 0\n",
        "    sol = np.zeros(numVars)\n",
        "\n",
        "    print(\"Initial tableau:\")\n",
        "    print_tableau(A, b, c, f)\n",
        "\n",
        "    ### fill in the simplex core\n",
        "\n",
        "    print(\"Final tableau:\")\n",
        "    print_tableau(A, b, c, f)\n",
        "\n",
        "    print(\"solution : \", sol, \"\\n\")\n",
        "    return sol\n",
        "\n"
      ]
    },
    {
      "cell_type": "code",
      "source": [
        "from mip import Model, maximize\n",
        "\n",
        "m = Model(\"test\")\n",
        "x = [m.add_var(), m.add_var()]\n",
        "obj = m.objective = maximize(x[0] + x[1])\n",
        "m += x[0] +  3 * x[1] <= 9\n",
        "m += 2 * x[0] + x[1] <= 8\n",
        "simplex(m, obj)\n",
        "\n",
        "\n",
        "m = Model(\"test\")\n",
        "x = [m.add_var() for i in range(3)]\n",
        "obj = m.objective = maximize(6 * x[0] + x[1])\n",
        "m += 9 * x[0] + x[1] + x[2] <= 18\n",
        "m += 24 * x[0] + x[1] + 4 * x[2] <= 42\n",
        "simplex(m, obj)"
      ],
      "metadata": {
        "colab": {
          "base_uri": "https://localhost:8080/"
        },
        "id": "Ne9VBQfqfagz",
        "outputId": "bbc24ae8-f1a5-434f-bfb6-b422af2c6f1f"
      },
      "execution_count": 4,
      "outputs": [
        {
          "output_type": "stream",
          "name": "stdout",
          "text": [
            "Initial tableau:\n",
            "[1. 3. 1. 0.]                  | 9.0\n",
            "[2. 1. 0. 1.]                  | 8.0\n",
            "_______________________________________\n",
            "[1. 1. 0. 0.]                  | 0\n",
            "\n",
            "\n",
            "Final tableau:\n",
            "[ 0.   1.   0.4 -0.2]          | 2.0\n",
            "[ 1.   0.  -0.2  0.6]          | 3.0\n",
            "_______________________________________\n",
            "[ 0.   0.  -0.2 -0.4]          | -5.0\n",
            "\n",
            "Optimal solution: [3. 2. 0. 0.]\n",
            "Optimal value: -5.0 \n",
            "\n",
            "Initial tableau:\n",
            "[9. 1. 1. 1. 0.]               | 18.0\n",
            "[24.  1.  4.  0.  1.]          | 42.0\n",
            "_______________________________________\n",
            "[6. 1. 0. 0. 0.]               | 0\n",
            "\n",
            "\n",
            "Final tableau:\n",
            "[9. 1. 1. 1. 0.]               | 18.0\n",
            "[15.  0.  3. -1.  1.]          | 24.0\n",
            "_______________________________________\n",
            "[-3.  0. -1. -1.  0.]          | -18.0\n",
            "\n",
            "Optimal solution: [ 0. 18.  0.  0.  0.]\n",
            "Optimal value: -18.0 \n",
            "\n"
          ]
        },
        {
          "output_type": "execute_result",
          "data": {
            "text/plain": [
              "(array([ 0., 18.,  0.,  0.,  0.]), np.float64(-18.0))"
            ]
          },
          "metadata": {},
          "execution_count": 4
        }
      ]
    }
  ]
}